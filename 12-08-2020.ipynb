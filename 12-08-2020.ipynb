{
 "cells": [
  {
   "cell_type": "markdown",
   "metadata": {},
   "source": [
    "# Dhyanahita-DSPS\n",
    "## Dhyanahita-DSPS\n",
    "### Dhyanahita-DSPS\n",
    "#### Dhyanahita-DSPS\n",
    "##### Dhyanahita-DSPS\n",
    "###### Dhyanahita-DSPS"
   ]
  },
  {
   "cell_type": "markdown",
   "metadata": {},
   "source": [
    "- Point1\n",
    "- Point2\n",
    "- Point3"
   ]
  },
  {
   "cell_type": "markdown",
   "metadata": {},
   "source": [
    "- Point1\n",
    "    - Point 1.1\n",
    "        - Point 1.1.1\n",
    "        - Point 1.1.2\n",
    "        \n",
    "    - Point 1.2\n",
    "    - Point 1.3\n",
    "    - Point 1.4\n",
    "- Point2\n",
    "    - point 2.1\n",
    "    - Point 2.2\n",
    "- Point3"
   ]
  },
  {
   "cell_type": "markdown",
   "metadata": {},
   "source": [
    "### Python Programming Introduction\n",
    "- Interactive Programming\n",
    "    - Bash \n",
    "        - Group of Commands executes together\n",
    "    - Shell\n",
    "        - Single command executes at a time"
   ]
  },
  {
   "cell_type": "markdown",
   "metadata": {},
   "source": [
    "### Some Points \n",
    "- Python is **Interactive Programming**\n",
    "- Is is very *easy* to learn\n",
    "- Simple implementation for ***Larger Problems***"
   ]
  },
  {
   "cell_type": "markdown",
   "metadata": {},
   "source": [
    "1. Python Programming\n",
    "2. jupyter **Notebook**\n",
    "3. Markdowns\n",
    "4. Makes the Doc to ***better***"
   ]
  },
  {
   "cell_type": "markdown",
   "metadata": {},
   "source": [
    "***\n",
    "    We can represent the Horizantal Lines\n",
    "***"
   ]
  },
  {
   "cell_type": "markdown",
   "metadata": {},
   "source": [
    "***\n",
    "    Line 1\n",
    "    Line \n",
    "    Line \n",
    "    Line\n",
    "***\n",
    "    Line 2\n",
    "***\n",
    "    Line 3\n",
    "***"
   ]
  },
  {
   "cell_type": "markdown",
   "metadata": {},
   "source": [
    "`\n",
    "    Programing Code\n",
    "    print(\"Hello World\")\n",
    "`"
   ]
  },
  {
   "cell_type": "markdown",
   "metadata": {},
   "source": [
    "<img src = 'Python.png' width = '200px' Height = '200px' align = 'left'/>\n",
    "<img src = 'Python.png' width = '200px' Height = '200px' align = 'right' />"
   ]
  },
  {
   "cell_type": "markdown",
   "metadata": {},
   "source": [
    "#### Reference  Links on Jupyter\n",
    "[Google](https://www.google.com/) <br/>\n",
    "[PythonResouces](https://www.python.org/)"
   ]
  },
  {
   "cell_type": "code",
   "execution_count": null,
   "metadata": {},
   "outputs": [],
   "source": []
  }
 ],
 "metadata": {
  "kernelspec": {
   "display_name": "Python 3",
   "language": "python",
   "name": "python3"
  },
  "language_info": {
   "codemirror_mode": {
    "name": "ipython",
    "version": 3
   },
   "file_extension": ".py",
   "mimetype": "text/x-python",
   "name": "python",
   "nbconvert_exporter": "python",
   "pygments_lexer": "ipython3",
   "version": "3.8.3"
  }
 },
 "nbformat": 4,
 "nbformat_minor": 4
}
